{
  "cells": [
    {
      "cell_type": "markdown",
      "metadata": {
        "id": "view-in-github",
        "colab_type": "text"
      },
      "source": [
        "<a href=\"https://colab.research.google.com/github/vishwatheerthala/NLP/blob/main/Stemming_and_Lemmatize.ipynb\" target=\"_parent\"><img src=\"https://colab.research.google.com/assets/colab-badge.svg\" alt=\"Open In Colab\"/></a>"
      ]
    },
    {
      "cell_type": "markdown",
      "metadata": {
        "id": "UjfbB0EOy6NZ"
      },
      "source": [
        "## 3. STEMMING AND LEMMATIZE\n"
      ]
    },
    {
      "cell_type": "markdown",
      "metadata": {
        "id": "fHDC2ZYgy6Nn"
      },
      "source": [
        "# Stemming"
      ]
    },
    {
      "cell_type": "code",
      "execution_count": 1,
      "metadata": {
        "colab": {
          "base_uri": "https://localhost:8080/"
        },
        "id": "z6AlsR9Vy6Nq",
        "outputId": "5894e667-9928-421d-bb28-8047a0868894"
      },
      "outputs": [
        {
          "output_type": "stream",
          "name": "stdout",
          "text": [
            "cat\n",
            "troubl\n",
            "troubl\n",
            "troubl\n",
            "have\n",
            "corriendo\n",
            "at\n",
            "wa\n"
          ]
        }
      ],
      "source": [
        "from nltk.stem import PorterStemmer\n",
        "\n",
        "porter = PorterStemmer()\n",
        "\n",
        "print(porter.stem(\"cats\"))\n",
        "print(porter.stem(\"trouble\"))\n",
        "print(porter.stem(\"troubling\"))\n",
        "print(porter.stem(\"troubled\"))\n",
        "print(porter.stem(\"having\"))\n",
        "print(porter.stem(\"Corriendo\"))\n",
        "print(porter.stem(\"at\"))\n",
        "print(porter.stem(\"was\"))"
      ]
    },
    {
      "cell_type": "markdown",
      "metadata": {
        "id": "JqVjn76Iy6Nw"
      },
      "source": [
        "## Lemmatize the words"
      ]
    },
    {
      "cell_type": "code",
      "execution_count": 2,
      "metadata": {
        "colab": {
          "base_uri": "https://localhost:8080/"
        },
        "id": "PgrCFpZJy6Ny",
        "outputId": "aea0b315-f68a-4a60-c3f0-665e0bb45484"
      },
      "outputs": [
        {
          "output_type": "stream",
          "name": "stderr",
          "text": [
            "[nltk_data] Downloading package wordnet to /root/nltk_data...\n",
            "[nltk_data] Downloading package omw-1.4 to /root/nltk_data...\n"
          ]
        },
        {
          "output_type": "execute_result",
          "data": {
            "text/plain": [
              "True"
            ]
          },
          "metadata": {},
          "execution_count": 2
        }
      ],
      "source": [
        "import nltk\n",
        "nltk.download('wordnet')\n",
        "nltk.download('omw-1.4')"
      ]
    },
    {
      "cell_type": "code",
      "execution_count": 3,
      "metadata": {
        "colab": {
          "base_uri": "https://localhost:8080/"
        },
        "id": "1M4CKEu7y6N1",
        "outputId": "4bcf4a8c-0a87-4cf1-8724-0ca1989b54d7"
      },
      "outputs": [
        {
          "output_type": "stream",
          "name": "stdout",
          "text": [
            "cat\n",
            "trouble\n",
            "troubling\n",
            "troubled\n",
            "having\n",
            "Corriendo\n",
            "at\n",
            "wa\n"
          ]
        }
      ],
      "source": [
        "import nltk\n",
        "from nltk.stem import WordNetLemmatizer \n",
        "\n",
        "lemmatizer = WordNetLemmatizer()\n",
        "\n",
        "print(lemmatizer.lemmatize(\"cats\"))\n",
        "print(lemmatizer.lemmatize(\"trouble\"))\n",
        "print(lemmatizer.lemmatize(\"troubling\"))\n",
        "print(lemmatizer.lemmatize(\"troubled\"))\n",
        "print(lemmatizer.lemmatize(\"having\"))\n",
        "print(lemmatizer.lemmatize(\"Corriendo\"))\n",
        "print(lemmatizer.lemmatize(\"at\"))\n",
        "print(lemmatizer.lemmatize(\"was\"))"
      ]
    }
  ],
  "metadata": {
    "kernelspec": {
      "display_name": "Python 3.10.4 64-bit",
      "language": "python",
      "name": "python3"
    },
    "language_info": {
      "codemirror_mode": {
        "name": "ipython",
        "version": 3
      },
      "file_extension": ".py",
      "mimetype": "text/x-python",
      "name": "python",
      "nbconvert_exporter": "python",
      "pygments_lexer": "ipython3",
      "version": "3.10.4"
    },
    "orig_nbformat": 4,
    "vscode": {
      "interpreter": {
        "hash": "7dda2c1b017c1920d7cbbc2aa5344a88e97f75e1d18b3deb254ad9a2cc7f643d"
      }
    },
    "colab": {
      "name": "Stemming and Lemmatize.ipynb",
      "provenance": [],
      "include_colab_link": true
    }
  },
  "nbformat": 4,
  "nbformat_minor": 0
}